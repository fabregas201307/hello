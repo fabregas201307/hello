{
 "cells": [
  {
   "cell_type": "markdown",
   "metadata": {},
   "source": [
    "<center><h2>Sector Data Package Demo<h2></center>"
   ]
  },
  {
   "cell_type": "code",
   "execution_count": 1,
   "metadata": {
    "slideshow": {
     "slide_type": "subslide"
    }
   },
   "outputs": [
    {
     "data": {
      "text/html": [
       "<script>\n",
       "code_show=true; \n",
       "function code_toggle() {\n",
       " if (code_show){\n",
       " $('div.input').hide();\n",
       " } else {\n",
       " $('div.input').show();\n",
       " }\n",
       " code_show = !code_show\n",
       "} \n",
       "$( document ).ready(code_toggle);\n",
       "</script>\n",
       "<form action=\"javascript:code_toggle()\"><input type=\"submit\" value=\"Click here to show/hide the raw code.\"></form>"
      ],
      "text/plain": [
       "<IPython.core.display.HTML object>"
      ]
     },
     "execution_count": 1,
     "metadata": {},
     "output_type": "execute_result"
    }
   ],
   "source": [
    "from IPython.display import HTML\n",
    "HTML('''<script>\n",
    "code_show=true; \n",
    "function code_toggle() {\n",
    " if (code_show){\n",
    " $('div.input').hide();\n",
    " } else {\n",
    " $('div.input').show();\n",
    " }\n",
    " code_show = !code_show\n",
    "} \n",
    "$( document ).ready(code_toggle);\n",
    "</script>\n",
    "<form action=\"javascript:code_toggle()\"><input type=\"submit\" value=\"Click here to show/hide the raw code.\"></form>''')"
   ]
  },
  {
   "cell_type": "code",
   "execution_count": 2,
   "metadata": {
    "scrolled": false
   },
   "outputs": [
    {
     "data": {
      "application/javascript": [
       "IPython.notebook.set_autosave_interval(0)"
      ]
     },
     "metadata": {},
     "output_type": "display_data"
    },
    {
     "name": "stdout",
     "output_type": "stream",
     "text": [
      "Autosave disabled\n"
     ]
    },
    {
     "data": {
      "text/html": [
       "        <script type=\"text/javascript\">\n",
       "        window.PlotlyConfig = {MathJaxConfig: 'local'};\n",
       "        if (window.MathJax) {MathJax.Hub.Config({SVG: {font: \"STIX-Web\"}});}\n",
       "        if (typeof require !== 'undefined') {\n",
       "        require.undef(\"plotly\");\n",
       "        requirejs.config({\n",
       "            paths: {\n",
       "                'plotly': ['https://cdn.plot.ly/plotly-latest.min']\n",
       "            }\n",
       "        });\n",
       "        require(['plotly'], function(Plotly) {\n",
       "            window._Plotly = Plotly;\n",
       "        });\n",
       "        }\n",
       "        </script>\n",
       "        "
      ]
     },
     "metadata": {},
     "output_type": "display_data"
    }
   ],
   "source": [
    "# import alphalens\n",
    "import sys\n",
    "import os\n",
    "import re\n",
    "# import datetime\n",
    "# import getpass\n",
    "# import logging\n",
    "# import sklearn\n",
    "# from sklearn.base import clone\n",
    "import ipywidgets as widgets\n",
    "# import pandas as pd\n",
    "from datetime import datetime\n",
    "# import statsmodels.api as sm_api\n",
    "# from sklearn.preprocessing import StandardScaler\n",
    "\n",
    "%matplotlib inline\n",
    "%config IPCompleter.greedy=True\n",
    "%autosave 0\n",
    "\n",
    "import pandas as pd\n",
    "import numpy as np\n",
    "import plotly.graph_objs as go\n",
    "# from dslab.dsdata import MLData\n",
    "# from dslab.dsmodel import MLModel\n",
    "from ipywidgets import *\n",
    "from IPython.display import display, clear_output, Image, Javascript, SVG\n",
    "from plotly.offline import init_notebook_mode, iplot\n",
    "from plotly.tools import FigureFactory as FF       \n",
    "\n",
    "# Initialize data and model object instances\n",
    "# dsData = MLData(regret=True)\n",
    "# model_obj = MLModel()\n",
    "\n",
    "# for plotly\n",
    "init_notebook_mode(connected=True)"
   ]
  },
  {
   "cell_type": "code",
   "execution_count": 3,
   "metadata": {},
   "outputs": [],
   "source": [
    "import warnings\n",
    "with warnings.catch_warnings():\n",
    "    warnings.simplefilter('ignore')"
   ]
  },
  {
   "cell_type": "code",
   "execution_count": 4,
   "metadata": {},
   "outputs": [],
   "source": [
    "# import functools\n",
    "# import scipy.interpolate\n",
    "# import itertools\n",
    "# import math\n",
    "# from scipy.optimize import minimize\n",
    "# from scipy.signal import fftconvolve\n",
    "# from scipy.stats import norm\n",
    "# import copy"
   ]
  },
  {
   "cell_type": "code",
   "execution_count": 5,
   "metadata": {},
   "outputs": [],
   "source": [
    "# display settings\n",
    "\n",
    "# widgets\n",
    "row_layout = Layout(display='flex', flex_flow='row', align_items='center')\n",
    "col_layout = dict(display='flex', flex_flow='column', justify_content='space-between', width='auto')\n",
    "\n",
    "def leftm(m=10):\n",
    "    '''Set left margin'''\n",
    "    return '0px 0px 0px {}px'.format(m)\n",
    "\n",
    "max_col = IntSlider(value=50, max=100, width='600px')\n",
    "max_row = IntSlider(value=100, max=250, width='600px')\n",
    "\n",
    "bs_row1 = Box([Label('Max Columns to Display:', layout=Layout(width='200px')),  max_col], layout=row_layout)\n",
    "bs_row2 = Box([Label('Max Rows to Display:', layout=Layout(width='200px')),  max_row], layout=row_layout)\n",
    "# display(Box([bs_row1, bs_row2], layout=Layout(**col_layout)))\n",
    "\n",
    "# function\n",
    "pd.options.display.max_columns = max_col.value\n",
    "pd.options.display.max_rows = max_row.value\n",
    "\n",
    "def chg_setting(chg):\n",
    "    '''Change basic settings.'''\n",
    "    pd.options.display.max_rows = max_row.value\n",
    "    pd.options.display.max_columns = max_col.value\n",
    "\n",
    "max_col.observe(chg_setting, names='value')\n",
    "max_row.observe(chg_setting, names='value')"
   ]
  },
  {
   "cell_type": "markdown",
   "metadata": {},
   "source": [
    "## 1. Load Data"
   ]
  },
  {
   "cell_type": "code",
   "execution_count": 6,
   "metadata": {
    "scrolled": false
   },
   "outputs": [
    {
     "data": {
      "application/vnd.jupyter.widget-view+json": {
       "model_id": "b180007601db49cead5ba1377b74e46b",
       "version_major": 2,
       "version_minor": 0
      },
      "text/plain": [
       "Text(value='fake_data.csv', description='File Path:')"
      ]
     },
     "metadata": {},
     "output_type": "display_data"
    },
    {
     "data": {
      "application/vnd.jupyter.widget-view+json": {
       "model_id": "b1ca550b07a04b338bc8af5040781e08",
       "version_major": 2,
       "version_minor": 0
      },
      "text/plain": [
       "Button(button_style='success', description='Load Data', style=ButtonStyle())"
      ]
     },
     "metadata": {},
     "output_type": "display_data"
    },
    {
     "data": {
      "application/vnd.jupyter.widget-view+json": {
       "model_id": "449af65a740642db8e41a5b5b15e8422",
       "version_major": 2,
       "version_minor": 0
      },
      "text/plain": [
       "FloatProgress(value=0.0, description='Progress:', max=10.0)"
      ]
     },
     "metadata": {},
     "output_type": "display_data"
    }
   ],
   "source": [
    "# load data\n",
    "# widgets\n",
    "filepath = Text(description='File Path:', value='fake_data.csv')\n",
    "loaddata_button = Button(description=\"Load Data\", button_style='success', margin=leftm(650))\n",
    "prog = FloatProgress(value=0, min=0, max=10, step=1, description='Progress:',\n",
    "                     margin=leftm(550), width='250px')\n",
    "display(filepath, loaddata_button, prog)\n",
    "\n",
    "# functions\n",
    "def loaddata(b):\n",
    "    '''Load data.'''\n",
    "#     clear_output()\n",
    "#     display(filepath, loaddata_button, prog)\n",
    "    global all_tickers, all_factors\n",
    "    prog.value = 0\n",
    "    prog.description = 'Start...'\n",
    "    filepath_ = filepath.value # os.path.join(PATH.value, filename.value)\n",
    "    dsData.read_data(filepath_)  # read data\n",
    "    prog.value = 5\n",
    "    prog.description = 'In Progress...'\n",
    "    dsData.save_current()  # save a copy of current snapshot\n",
    "    prog.value = 10\n",
    "    prog.description = 'Done!'\n",
    "    dsData.infer_categorical()\n",
    "    clear_output()\n",
    "    print('\\n', 'Data Head')\n",
    "    display(dsData.head())  # display data head\n",
    "    print('\\n', 'Data Tail')\n",
    "    display(dsData.tail())  # display data tail\n",
    "    print('\\n', 'Summary Statistics')    \n",
    "    display(dsData.get_summary())  # display summary statistics\n",
    "    \n",
    "    all_tickers = list(dsData.data['symbol'].unique())\n",
    "    all_factors = [j for j in dsData.data.columns if j not in ['date', 'sid', 'symbol', 'Sector']]\n",
    "\n",
    "loaddata_button.on_click(loaddata)"
   ]
  },
  {
   "cell_type": "markdown",
   "metadata": {},
   "source": [
    "## 2. Explore Data"
   ]
  },
  {
   "cell_type": "code",
   "execution_count": 7,
   "metadata": {
    "scrolled": false
   },
   "outputs": [
    {
     "data": {
      "application/vnd.jupyter.widget-view+json": {
       "model_id": "75c3b142fbf74852885b6039b3a0e3b2",
       "version_major": 2,
       "version_minor": 0
      },
      "text/plain": [
       "HBox(children=(Label(value='Graph Type: '), ToggleButtons(index=4, options=('Coverage', 'Pie Chart', 'Histogra…"
      ]
     },
     "metadata": {},
     "output_type": "display_data"
    }
   ],
   "source": [
    "# Select Graph\n",
    "\n",
    "# widgets\n",
    "chart_select = ToggleButtons(\n",
    "    options=['Coverage', 'Pie Chart', 'Histogram', 'Scatter Plot', 'Correlations'],\n",
    "    tooltips=['Explore feature coverage', 'Visualize single categorical variable', 'Visualize single numerical variable',\n",
    "             'Visualize pairwise distributions among a group of numerical variables',\n",
    "             'Visualize pairwise correlations among a group of numerical variables'],\n",
    "    value='Correlations', \n",
    "    margin=leftm()\n",
    ")\n",
    "\n",
    "display(HBox([Label('Graph Type: '), chart_select], layout=Layout(margin='0px 0px 30px 0px')))\n",
    "\n",
    "# functions\n",
    "grph = HTML('')\n",
    "\n",
    "def switch_chart(chg):\n",
    "    '''Switch between graph type.'''\n",
    "    global grph\n",
    "    clear_output()\n",
    "    display(HBox([Label('Graph Type: '), chart_select], layout=Layout(margin='0px 0px 30px 0px')))\n",
    "    grph.close()\n",
    "    grph = graph_mapping[chart_select.value]()\n",
    "    display(grph)\n",
    "\n",
    "chart_select.observe(switch_chart, names='value')"
   ]
  },
  {
   "cell_type": "code",
   "execution_count": 8,
   "metadata": {},
   "outputs": [],
   "source": [
    "# Coverage check\n",
    "# widgets\n",
    "def make_coverage():    \n",
    "    coverage_b = Button(description=\"Coverage\", button_style='success', width='70px', height='30px',\n",
    "                  margin=leftm(20))\n",
    "    \n",
    "    row0 = Box([HTML('<h4>Pie Chart - Visualize Distributions of Categorical Variables</h4>')],\n",
    "                layout=Layout(display='flex', flex_flow='row', align_items='center',\n",
    "                              justify_content='center', width='90%'))\n",
    "    row1 = Box([Label(layout=Layout(width='200px')), coverage_b], layout=row_layout)\n",
    "    coverage_chart = Box([row0, row1], layout=Layout(**col_layout),\n",
    "                    height='160px')    \n",
    "    return(coverage_chart)"
   ]
  },
  {
   "cell_type": "code",
   "execution_count": 9,
   "metadata": {},
   "outputs": [],
   "source": [
    "# Pie chart\n",
    "# widgets\n",
    "def make_pie():\n",
    "    '''create widgets for pie chart'''\n",
    "    global pie_filter, pie_select, pie_limit, group_less_freq, pieb\n",
    "    pie_filter = Text(value='', width='500px')\n",
    "    pie_select = Dropdown(options=dsData.get_header(sort=True), height='30px', width='200px',\n",
    "                          margin=leftm())\n",
    "    pie_limit = IntText(value=20, width='70px')\n",
    "    group_less_freq = Checkbox(value=False)\n",
    "    pieb = Button(description=\"Plot\", button_style='success', width='70px', height='30px',\n",
    "                  margin=leftm(20))\n",
    "    \n",
    "    row0 = Box([HTML('<h4>Pie Chart - Visualize Distributions of Categorical Variables</h4>')],\n",
    "                layout=Layout(display='flex', flex_flow='row', align_items='center',\n",
    "                              justify_content='center', width='90%'))\n",
    "#     row1 = Box([Label('Filter by Criterion: ', layout=Layout(width='200px')), pie_filter, pieb], layout=row_layout)\n",
    "    row1 = Box([Label('Pie Chart Plot: ', layout=Layout(width='200px')), pieb], layout=row_layout)\n",
    "#     row1 = Box([pieb], layout=row_layout)\n",
    "    row2 = Box([Label('Select a Categorical Column: ', layout=Layout(width='200px')), pie_select,\n",
    "                Label('Limit on # of Values: ', layout=Layout(width='200px'), margin=leftm(20)), pie_limit], layout=row_layout)\n",
    "    row3 = Box([Label('Group Everything Below the Limit as \"others\": ', layout=Layout(width='400px')), group_less_freq],\n",
    "                layout=row_layout)\n",
    "    pie_chart = Box([row0, row1, row2, row3], layout=Layout(**col_layout),\n",
    "                    height='160px')\n",
    "\n",
    "    pie_select.observe(plot_pie, names='value')\n",
    "    pieb.on_click(plot_pie)\n",
    "    return pie_chart\n",
    "\n",
    "\n",
    "# functions\n",
    "def plot_pie(chg):\n",
    "    '''plot the pie chart'''\n",
    "#     with warnings.catch_warnings():\n",
    "#         print(\"ignore warning\")\n",
    "#         warnings.simplefilter('ignore')\n",
    "    clear_output()\n",
    "    display(HBox([Label('Graph Type: '), chart_select], layout=Layout(margin='0px 0px 30px 0px'))) ## kai test\n",
    "\n",
    "    if pie_filter.value.strip() != '':\n",
    "        try:\n",
    "            vc = dsData.query_chain(pie_filter.value).ct_freq(pie_select.value, group_less_freq.value,\n",
    "                                                           pie_limit.value)\n",
    "            vc.astype('category').cat.remove_unused_categories(True)\n",
    "        except Exception as e:\n",
    "            print(e)\n",
    "            vc = dsData.ct_freq(pie_select.value, group_less_freq.value, pie_limit.value)\n",
    "    else:\n",
    "        vc = dsData.ct_freq(pie_select.value, group_less_freq.value, pie_limit.value)\n",
    "    trace = go.Pie(labels=list(vc.index), values=vc.values)\n",
    "    figp = go.Figure(data=go.Data([trace]),\n",
    "                     layout=dict(title='Break Down of {}'.format(pie_select.value.upper())))\n",
    "    iplot(figp)"
   ]
  },
  {
   "cell_type": "code",
   "execution_count": 10,
   "metadata": {
    "scrolled": false
   },
   "outputs": [],
   "source": [
    "# Histogram\n",
    "\n",
    "# widgets\n",
    "def make_hist():\n",
    "    '''make widgets for histogram'''\n",
    "    global hist_filter, histb, hist_select, hist_min, hist_max, hist_bins\n",
    "    hist_filter = Text(value='', width='500px')\n",
    "    histb = Button(description=\"Plot\", button_style='success', width='70px', height='30px',\n",
    "                   margin=leftm(20))\n",
    "    hist_select = Dropdown(options=dsData.get_header(['int', 'float'], sort=True), height='30px',\n",
    "                           width='200px', margin=leftm())\n",
    "    hist_min = FloatText(value=float('-Inf'), width='70px')\n",
    "    hist_max = FloatText(value=float('Inf'), width='70px')\n",
    "    hist_bins = IntText(value=10, width='70px')\n",
    "    \n",
    "    row0 = Box([HTML('<h4>Histogram - Visualize Distributions of Numerical Variables</h4>')],\n",
    "                layout=Layout(display='flex', flex_flow='row', align_items='center',\n",
    "                              justify_content='center', width='90%'))\n",
    "#     row1 = Box([Label('Filter by Criterion: ', layout=Layout(width='200px')), hist_filter, histb], layout=row_layout)\n",
    "    row1 = Box([Label('Histogram Plot: ', layout=Layout(width='200px')), histb], layout=row_layout)\n",
    "        \n",
    "    row2 = Box([Label('Select a Numerical Column: ', layout=Layout(width='200px')), hist_select], layout=row_layout)\n",
    "    row3 = Box([Label('Min: ', layout=Layout(width='200px')), hist_min, Label('Max: ', margin=leftm(20)), hist_max,\n",
    "                Label('# of Bins: ', margin=leftm(20)), hist_bins], layout=row_layout)\n",
    "\n",
    "    hist_chart = Box([row0, row1, row2, row3], layout=Layout(**col_layout), height='160px')\n",
    "    \n",
    "    hist_select.observe(plot_hist_new_col)\n",
    "    histb.on_click(plot_hist)\n",
    "    return hist_chart\n",
    "\n",
    "\n",
    "# functions\n",
    "def plot_hist_new_col(chg):\n",
    "    '''plot histogram when switching columns'''\n",
    "    hist_min.value = float('-Inf')\n",
    "    hist_max.value = float('Inf')\n",
    "    plot_hist(chg)\n",
    "    \n",
    "def plot_hist(chg):\n",
    "    '''plot histogram'''\n",
    "    clear_output()\n",
    "    display(HBox([Label('Graph Type: '), chart_select], layout=Layout(margin='0px 0px 30px 0px'))) ## kai test\n",
    "    if hist_filter.value.strip() != '':\n",
    "        x = dsData.query(hist_filter.value)[hist_select.value]\n",
    "    else:\n",
    "        x = dsData.data[hist_select.value]\n",
    "    n = len(x)\n",
    "    x = x[x > hist_min.value]\n",
    "    x = x[x < hist_max.value]\n",
    "    print('Percentage covered (after filtering): {:.2f}%'.format(len(x) / n * 100))\n",
    "    if hist_min.value == float('-Inf'):\n",
    "        hist_min.value = np.round(np.min(x), 2) - 1\n",
    "    if hist_max.value == float('Inf'):\n",
    "        hist_max.value = np.round(np.max(x), 2) + 1\n",
    "\n",
    "    size = (hist_max.value - hist_min.value) / hist_bins.value\n",
    "    trh = go.Histogram(x=x, histnorm='percent', marker=dict(color='rgb(0,0,100)'),\n",
    "                       xbins=dict(start=hist_min.value - 0.5, size=size, end=hist_max.value + 0.5))\n",
    "\n",
    "    layout = dict(bargap= 0.015, hovermode= 'x',\n",
    "                  title='Histogram for {}'.format(hist_select.value.upper()),\n",
    "                  yaxis= dict(title='Percentage (%)', autorange= True, showticklabels= True))\n",
    "    figh = go.Figure(data=go.Data([trh]), layout=layout)\n",
    "    iplot(figh)"
   ]
  },
  {
   "cell_type": "code",
   "execution_count": 11,
   "metadata": {
    "scrolled": false
   },
   "outputs": [],
   "source": [
    "# Scatter Plot\n",
    "# widgets\n",
    "def make_scatter():\n",
    "    '''Make widgets for scatter plot.'''\n",
    "    global sp_filter, spb, sp_height, sp_select, sp_ccol\n",
    "    num_cols = dsData.get_header(['int', 'float'], sort=True)\n",
    "    sp_filter = Text(value='', width='500px')\n",
    "    spb = Button(description=\"Plot\", button_style='success', width='70px', height='30px',\n",
    "                 margin=leftm(20))\n",
    "    sp_height = np.min([300, np.max([len(num_cols) * 15, 100])])\n",
    "    sp_select = SelectMultiple(options=num_cols, margin=leftm(),\n",
    "                               height='{}px'.format(sp_height))\n",
    "    sp_ccol = Dropdown(options=[None] + dsData.get_header('category', sort=True), height='30px', width='200px', margin=leftm())\n",
    "\n",
    "    row0 = Box([HTML('<h4>Scatter Plot - Visualize Pairwise Distributions among a Group of Numerical '\n",
    "                     'Variables</h4>')],\n",
    "                layout=Layout(display='flex', flex_flow='row', align_items='center',\n",
    "                              justify_content='center', width='90%'))\n",
    "#     row1 = Box([Label('Filter by Criterion: ', layout=Layout(width='200px')), sp_filter, spb], layout=row_layout)\n",
    "    row1 = Box([Label('Scatter Plot: ', layout=Layout(width='200px')), spb], layout=row_layout)\n",
    "    row2 = Box([Label(\"Select Columns: \", layout=Layout(width='200px')), sp_select, Label(\"Group by: \", margin=leftm(30)), sp_ccol],\n",
    "                layout=row_layout)\n",
    "    scatter_chart = Box([row0, row1, row2], layout=Layout(**col_layout),\n",
    "                        height='{}px'.format(sp_height + 110))\n",
    "    spb.on_click(plot_scatter)\n",
    "    return scatter_chart\n",
    "\n",
    "# functions\n",
    "def plot_scatter(chg):\n",
    "    '''Generate scatter plot.'''\n",
    "    clear_output()\n",
    "    display(HBox([Label('Graph Type: '), chart_select], layout=Layout(margin='0px 0px 30px 0px'))) ## kai test\n",
    "\n",
    "    if sp_filter.value.strip() != '':\n",
    "        temp_data = dsData.query(sp_filter.value).copy(True)\n",
    "    else:\n",
    "        temp_data = dsData.data.copy(True)\n",
    "    \n",
    "    sel_cols = list(sp_select.value)\n",
    "    if sp_ccol.value is not None:\n",
    "        temp_data[sp_ccol.value].cat.remove_unused_categories(True)\n",
    "        temp_data[sp_ccol.value] = temp_data[sp_ccol.value].astype('object')\n",
    "        sel_cols.append(sp_ccol.value)\n",
    "\n",
    "    temp = temp_data[sel_cols]\n",
    "    \n",
    "    fig = FF.create_scatterplotmatrix(temp, index=sp_ccol.value, diag='histogram', height=800,\n",
    "                                      width=800)\n",
    "    iplot(fig)"
   ]
  },
  {
   "cell_type": "code",
   "execution_count": 12,
   "metadata": {},
   "outputs": [],
   "source": [
    "# Correlations\n",
    "# widgets\n",
    "def make_cor():\n",
    "    '''Make widgets for correlations plot.'''\n",
    "    global cor_filter, corb, cor_height, cor_select\n",
    "    num_cols = dsData.get_header(['int', 'float'], sort=True)\n",
    "    cor_filter = Text(value='', width='500px')\n",
    "    corb = Button(description=\"Plot\", button_style='success', width='70px', height='30px',\n",
    "                  margin=leftm(20))\n",
    "    cor_height = np.min([300, np.max([len(num_cols) * 15, 100])])\n",
    "    cor_select = SelectMultiple(options=num_cols, margin=leftm(),\n",
    "                                height='{}px'.format(cor_height))\n",
    "    row0 = Box([HTML('<h4>Correlations - Visualize Correlations among a Group of Numerical Variables</h4>')],\n",
    "                layout=Layout(display='flex', flex_flow='row', align_items='center',\n",
    "                              justify_content='center', width='90%'))\n",
    "#     row1 = Box([Label('Filter by Criterion: ', layout=Layout(width='200px')), cor_filter, corb], layout=row_layout)\n",
    "    row1 = Box([Label('Correlation Plot: ', layout=Layout(width='200px')), corb], layout=row_layout)\n",
    "    row2 = Box([Label(\"Select Columns: \", layout=Layout(width='200px')), cor_select], layout=row_layout)\n",
    "    cor_chart = Box([row0, row1, row2], layout=Layout(**col_layout),\n",
    "                    height='{}px'.format(cor_height + 100))\n",
    "    corb.on_click(plot_cor)\n",
    "    return cor_chart\n",
    "\n",
    "# functions\n",
    "def plot_cor(chg):\n",
    "    '''Generate correlations plot.'''\n",
    "    clear_output()\n",
    "    display(HBox([Label('Graph Type: '), chart_select], layout=Layout(margin='0px 0px 30px 0px'))) ## kai test\n",
    "    \n",
    "    if cor_filter.value.strip() != '':\n",
    "        temp_data = dsData.query(cor_filter.value).copy(True)\n",
    "    else:\n",
    "        temp_data = dsData.data.copy(True)\n",
    "    \n",
    "    sel_cols = list(cor_select.value)\n",
    "    x, y = sel_cols, list(reversed(sel_cols))\n",
    "\n",
    "    corr = temp_data[sel_cols].corr().round(2)\n",
    "    z = np.flipud(corr.values)\n",
    "    annotations = []\n",
    "    for n, row in enumerate(z):\n",
    "        for m, val in enumerate(row):\n",
    "            var = z[n][m]\n",
    "            annotations.append(\n",
    "                dict(\n",
    "                    text=str(val),\n",
    "                    x=x[m], y=y[n],\n",
    "                    xref='x1', yref='y1',\n",
    "                    font=dict(color='black'),\n",
    "                    showarrow=False)\n",
    "                )\n",
    "\n",
    "    colorscale = [[0, 'rgba(255,0,0,0.3)'], [0.5, 'rgba(255,255,0,0.3)'], [1, 'rgba(0,255,0,0.3)']]\n",
    "    trace = go.Heatmap(x=x, y=y, z=z, zmin=-1, zmax=1, colorscale=colorscale, showscale=True)\n",
    "\n",
    "    fig = go.Figure(data=[trace])\n",
    "    fig['layout'].update(\n",
    "        title=\"Correlations\",\n",
    "        annotations=annotations,\n",
    "        xaxis=dict(ticks=''),\n",
    "        yaxis=dict(ticks='', ticksuffix='  '),\n",
    "        width=700,\n",
    "        height=700,\n",
    "        autosize=False\n",
    "    )\n",
    "    \n",
    "    iplot(fig)"
   ]
  },
  {
   "cell_type": "code",
   "execution_count": 13,
   "metadata": {},
   "outputs": [],
   "source": [
    "# graph_mapping = {'Pie Chart': make_pie, 'Histogram': make_hist, 'Box Plot': make_boxp,\n",
    "#                  'Cross Tab': make_xtab, 'Scatter Plot': make_scatter, 'Correlations': make_cor}\n",
    "\n",
    "graph_mapping = {'Coverage': make_coverage, 'Pie Chart': make_pie, 'Histogram': make_hist, \n",
    "                 'Scatter Plot': make_scatter, 'Correlations': make_cor}"
   ]
  },
  {
   "cell_type": "markdown",
   "metadata": {},
   "source": [
    "## 4. Single Factor Evaluate"
   ]
  },
  {
   "cell_type": "code",
   "execution_count": 17,
   "metadata": {},
   "outputs": [],
   "source": [
    "def cal_hit(ts):\n",
    "    ts = ts.dropna()\n",
    "    same_sign_counts, diff_sign_counts = sum(ts > 0), sum(ts <= 0)\n",
    "    hit_rate = same_sign_counts / (same_sign_counts + diff_sign_counts)   \n",
    "    return(hit_rate)"
   ]
  },
  {
   "cell_type": "code",
   "execution_count": 18,
   "metadata": {},
   "outputs": [],
   "source": [
    "def run_single_factor_single_ticker(data):\n",
    "    current_ticker = data['symbol'].unique()[0]\n",
    "    print(\"single ticker: \", current_ticker)\n",
    "    display(data.tail(5))\n",
    "    compare_df = data[[factor_select.value, target_select.value]]\n",
    "    print(\"Correlation:\")\n",
    "    display(compare_df.corr())\n",
    "    print(\"Hit Rate (Same Sign):\")\n",
    "    check_sign = compare_df[factor_select.value] * compare_df[target_select.value]\n",
    "    check_sign.index = data[\"date\"]\n",
    "    check_sign = check_sign.dropna()\n",
    "    dates_remain = check_sign.index\n",
    "    check_sign = pd.Series(np.sign(check_sign))\n",
    "    check_sign.index = dates_remain\n",
    "    display(check_sign.tail(5))\n",
    "#     check_sign_mvg60 = check_sign.rolling(60).mean()\n",
    "    check_sign_mvg60 = check_sign.rolling(60).apply(cal_hit)\n",
    "    check_sign_mvg60.plot(rot=45)\n",
    "    same_sign_counts, diff_sign_counts = sum(check_sign > 0), sum(check_sign <= 0)\n",
    "    try:\n",
    "        hit_rate = same_sign_counts / (same_sign_counts + diff_sign_counts)\n",
    "    except:\n",
    "        print(\"denominator zeros: \", same_sign_counts, diff_sign_counts)\n",
    "        hit_rate = np.nan\n",
    "    print(\"Over the history Hit Rate: \", hit_rate)\n",
    "    "
   ]
  },
  {
   "cell_type": "code",
   "execution_count": 19,
   "metadata": {},
   "outputs": [],
   "source": [
    "def run_single_factor(b):\n",
    "    target_cols = [target_select.value]\n",
    "#     cols = ['date', 'sid',  factor_select.value] + target_cols\n",
    "    cols = ['date', 'sid', 'symbol', factor_select.value] + target_cols\n",
    "\n",
    "    al_data = dsData.data[cols].copy()\n",
    "    ticker_selected = ticker_select.value\n",
    "    if ticker_selected != 'cross_tickers':\n",
    "        al_data = al_data[al_data['symbol']==ticker_selected]\n",
    "        run_single_factor_single_ticker(al_data)\n",
    "        return()\n",
    "        \n",
    "    al_data = al_data.drop(\"symbol\", axis=1)\n",
    "    al_data = al_data.set_index(['date', 'sid'])\n",
    "\n",
    "    factor_to_evaluate = al_data[factor_select.value]\n",
    "    forward_returns = al_data[target_select.value]   \n",
    "\n",
    "    data_for_alphalens = alphalens.utils.get_clean_factor(factor_to_evaluate, pd.DataFrame(forward_returns), max_loss=0.9) \n",
    "\n",
    "    data_for_alphalens = data_for_alphalens.reset_index()\n",
    "    data_for_alphalens['date'] = pd.to_datetime(data_for_alphalens['date'])  ### make sure the dtype of date column\n",
    "    data_for_alphalens.columns = ['date', 'asset'] + list(data_for_alphalens.columns[2:])\n",
    "    data_for_alphalens = data_for_alphalens.set_index(['date', 'asset'])\n",
    "    data_for_alphalens.columns = ['21D'] + list(data_for_alphalens.columns[1:])  ### alphalens only take standard column names\n",
    "    # data_for_alphalens.columns = forward_returns_cols + list(data_for_alphalens.columns[1:])  ### alphalens only take standard column names\n",
    "\n",
    "    alphalens.tears.create_returns_tear_sheet(data_for_alphalens)\n",
    "\n",
    "    alphalens.tears.create_information_tear_sheet(\n",
    "        factor_data=data_for_alphalens, group_neutral=False, by_group=False, set_context=False\n",
    "    )\n",
    "\n",
    "    alphalens.plotting.plot_quantile_statistics_table(data_for_alphalens)\n",
    "\n",
    "#     alphalens.tears.create_full_tear_sheet(data_for_alphalens)"
   ]
  },
  {
   "cell_type": "code",
   "execution_count": 20,
   "metadata": {},
   "outputs": [],
   "source": [
    "def alpha_single(b):\n",
    "    '''Make widgets for single model.'''\n",
    "    clear_output()\n",
    "    display(individual_eval_button)\n",
    "    global factor_select, target_select, ticker_select, run_eval_button\n",
    "    factor_select = Dropdown(options=all_factors, height='30px', margin=leftm(), width='200px')\n",
    "    target_select = Dropdown(options=all_factors, height='30px', margin=leftm(), width='200px')\n",
    "    tickers_options = ['cross_tickers'] + all_tickers\n",
    "    ticker_select = Dropdown(options=tickers_options, height='30px', margin=leftm(), width='200px')\n",
    "    \n",
    "    rows = []\n",
    "    rows.append(Box([Label('Independent Factor: ', layout=Layout(width='200px')), factor_select], layout=row_layout))\n",
    "    rows.append(Box([Label('Target Variable: ', layout=Layout(width='200px')), target_select], layout=row_layout))\n",
    "    rows.append(Box([Label('Ticker Only: ', layout=Layout(width='200px')), ticker_select], layout=row_layout))\n",
    "\n",
    "    result = Box(rows, layout=Layout(**col_layout))\n",
    "    display(result)\n",
    "    \n",
    "    run_eval_button = Button(description=\"Run_Evaluation\", button_style='success', margin=leftm(650))\n",
    "    display(run_eval_button)\n",
    "    run_eval_button.on_click(run_single_factor)\n"
   ]
  },
  {
   "cell_type": "code",
   "execution_count": 21,
   "metadata": {
    "scrolled": false
   },
   "outputs": [
    {
     "data": {
      "application/vnd.jupyter.widget-view+json": {
       "model_id": "7cf11099ae2d41d2af655649d1bd8f13",
       "version_major": 2,
       "version_minor": 0
      },
      "text/plain": [
       "Button(button_style='success', description='Individual_Evaluation', style=ButtonStyle())"
      ]
     },
     "metadata": {},
     "output_type": "display_data"
    }
   ],
   "source": [
    "individual_eval_button = Button(description=\"Individual_Evaluation\", button_style='success', margin=leftm(650))\n",
    "display(individual_eval_button)\n",
    "individual_eval_button.on_click(alpha_single)"
   ]
  }
 ],
 "metadata": {
  "anaconda-cloud": {},
  "kernelspec": {
   "display_name": "Python 3",
   "language": "python",
   "name": "python3"
  },
  "language_info": {
   "codemirror_mode": {
    "name": "ipython",
    "version": 3
   },
   "file_extension": ".py",
   "mimetype": "text/x-python",
   "name": "python",
   "nbconvert_exporter": "python",
   "pygments_lexer": "ipython3",
   "version": "3.7.6"
  }
 },
 "nbformat": 4,
 "nbformat_minor": 1
}
